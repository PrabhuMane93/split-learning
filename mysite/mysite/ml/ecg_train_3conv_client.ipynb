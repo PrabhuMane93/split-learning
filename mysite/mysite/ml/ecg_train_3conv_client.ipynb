{
 "cells": [
  {
   "cell_type": "markdown",
   "metadata": {},
   "source": [
    "# ECG Split 1D-CNN Client Side"
   ]
  },
  {
   "cell_type": "markdown",
   "metadata": {},
   "source": [
    "This code is the server part of ECG split 1D-CNN model for **single** client and a server."
   ]
  },
  {
   "cell_type": "markdown",
   "metadata": {},
   "source": [
    "## Import required packages"
   ]
  },
  {
   "cell_type": "code",
   "execution_count": 1,
   "metadata": {},
   "outputs": [],
   "source": [
    "import os\n",
    "import struct\n",
    "import socket\n",
    "import pickle\n",
    "import time\n",
    "\n",
    "import h5py\n",
    "import numpy as np\n",
    "\n",
    "import torch\n",
    "import torch.nn as nn\n",
    "from torch.utils.data import Dataset, DataLoader\n",
    "from torch.optim import Adam, SGD"
   ]
  },
  {
   "cell_type": "markdown",
   "metadata": {},
   "source": [
    "## Define ECG dataset class"
   ]
  },
  {
   "cell_type": "code",
   "execution_count": 9,
   "metadata": {},
   "outputs": [],
   "source": [
    "class ECG(Dataset):\n",
    "    def __init__(self, train=True):\n",
    "        if train:\n",
    "            with h5py.File(os.path.join('train_ecg.hdf5'), 'r') as hdf:\n",
    "                self.x = hdf['x_train'][:]\n",
    "                self.y = hdf['y_train'][:]\n",
    "        else:\n",
    "            with h5py.File(os.path.join('test_ecg.hdf5'), 'r') as hdf:\n",
    "                self.x = hdf['x_test'][:]\n",
    "                self.y = hdf['y_test'][:]\n",
    "    \n",
    "    def __len__(self):\n",
    "        return len(self.x)\n",
    "    \n",
    "    def __getitem__(self, idx):\n",
    "        return torch.tensor(self.x[idx], dtype=torch.float), torch.tensor(self.y[idx])"
   ]
  },
  {
   "cell_type": "markdown",
   "metadata": {},
   "source": [
    "### Set batch size"
   ]
  },
  {
   "cell_type": "code",
   "execution_count": 10,
   "metadata": {},
   "outputs": [],
   "source": [
    "batch_size = 32"
   ]
  },
  {
   "cell_type": "markdown",
   "metadata": {},
   "source": [
    "## Make train and test dataset batch generator"
   ]
  },
  {
   "cell_type": "code",
   "execution_count": 11,
   "metadata": {},
   "outputs": [],
   "source": [
    "train_dataset = ECG(train=True)\n",
    "test_dataset = ECG(train=False)\n",
    "train_loader = DataLoader(train_dataset, batch_size=batch_size)\n",
    "test_loader = DataLoader(test_dataset, batch_size=batch_size)"
   ]
  },
  {
   "cell_type": "markdown",
   "metadata": {},
   "source": [
    "### Total number of batches"
   ]
  },
  {
   "cell_type": "code",
   "execution_count": 12,
   "metadata": {},
   "outputs": [
    {
     "name": "stdout",
     "output_type": "stream",
     "text": [
      "414\n"
     ]
    }
   ],
   "source": [
    "total_batch = len(train_loader)\n",
    "print(total_batch)"
   ]
  },
  {
   "cell_type": "markdown",
   "metadata": {},
   "source": [
    "## Define ECG client model\n",
    "Client side has only **2 convolutional layers**."
   ]
  },
  {
   "cell_type": "code",
   "execution_count": 13,
   "metadata": {},
   "outputs": [],
   "source": [
    "class EcgClient(nn.Module):\n",
    "    def __init__(self):\n",
    "        super(EcgClient, self).__init__()\n",
    "        self.conv1 = nn.Conv1d(1, 16, 7, padding=3)  # 128 x 16\n",
    "        self.relu1 = nn.LeakyReLU()\n",
    "        self.pool1 = nn.MaxPool1d(2)  # 64 x 16\n",
    "        self.conv2 = nn.Conv1d(16, 16, 5, padding=2)  # 64 x 16\n",
    "        self.relu2 = nn.LeakyReLU()\n",
    "        self.conv3 = nn.Conv1d(16, 16, 5, padding=2)  # 64 x 16\n",
    "        self.relu3 = nn.LeakyReLU()\n",
    "        self.pool3 = nn.MaxPool1d(2)  # 32 x 16\n",
    "    \n",
    "    def forward(self, x):\n",
    "        x = self.conv1(x)\n",
    "        x = self.relu1(x)\n",
    "        x = self.pool1(x)\n",
    "        x = self.conv2(x)\n",
    "        x = self.relu2(x)\n",
    "        x = self.conv3(x)\n",
    "        x = self.relu3(x)\n",
    "        x = self.pool3(x)\n",
    "        x = x.view(-1, 32 * 16)\n",
    "        return x"
   ]
  },
  {
   "cell_type": "code",
   "execution_count": 14,
   "metadata": {},
   "outputs": [],
   "source": [
    "device = torch.device('cuda:0' if torch.cuda.is_available() else 'cpu')\n",
    "if torch.cuda.is_available():\n",
    "    print(torch.cuda.get_device_name(0))"
   ]
  },
  {
   "cell_type": "markdown",
   "metadata": {},
   "source": [
    "### Set random seed"
   ]
  },
  {
   "cell_type": "code",
   "execution_count": 15,
   "metadata": {},
   "outputs": [],
   "source": [
    "seed = 0\n",
    "np.random.seed(seed)\n",
    "torch.manual_seed(seed)\n",
    "torch.cuda.manual_seed(seed)\n",
    "torch.cuda.manual_seed_all(seed)\n",
    "torch.backends.cudnn.benchmark = False\n",
    "torch.backends.cudnn.deterministic = True"
   ]
  },
  {
   "cell_type": "markdown",
   "metadata": {},
   "source": [
    "### Assign intial weight as same as non-split model"
   ]
  },
  {
   "cell_type": "code",
   "execution_count": 16,
   "metadata": {},
   "outputs": [],
   "source": [
    "ecg_client = EcgClient()\n",
    "ecg_client.to(device)\n",
    "\n",
    "checkpoint = torch.load(\"init_weight.pth\")\n",
    "ecg_client.conv1.weight.data = checkpoint[\"conv1.weight\"]\n",
    "ecg_client.conv1.bias.data = checkpoint[\"conv1.bias\"]\n",
    "ecg_client.conv2.weight.data = checkpoint[\"conv2.weight\"]\n",
    "ecg_client.conv2.bias.data = checkpoint[\"conv2.bias\"]\n",
    "ecg_client.conv3.weight.data = checkpoint[\"conv3.weight\"]\n",
    "ecg_client.conv3.bias.data = checkpoint[\"conv3.bias\"]"
   ]
  },
  {
   "cell_type": "markdown",
   "metadata": {},
   "source": [
    "### Set other hyperparameters in the model\n",
    "Hyperparameters here should be same with the server side."
   ]
  },
  {
   "cell_type": "code",
   "execution_count": 18,
   "metadata": {},
   "outputs": [],
   "source": [
    "epoch = 180\n",
    "criterion = nn.CrossEntropyLoss()\n",
    "lr = 0.001\n",
    "optimizer = Adam(ecg_client.parameters(), lr=lr)"
   ]
  },
  {
   "cell_type": "markdown",
   "metadata": {},
   "source": [
    "## Socket initialization"
   ]
  },
  {
   "cell_type": "markdown",
   "metadata": {},
   "source": [
    "### Required socket functions"
   ]
  },
  {
   "cell_type": "code",
   "execution_count": 19,
   "metadata": {},
   "outputs": [],
   "source": [
    "def send_msg(sock, msg):\n",
    "    # prefix each message with a 4-byte length in network byte order\n",
    "    msg = struct.pack('>I', len(msg)) + msg\n",
    "    sock.sendall(msg)\n",
    "\n",
    "def recv_msg(sock):\n",
    "    # read message length and unpack it into an integer\n",
    "    raw_msglen = recvall(sock, 4)\n",
    "    if not raw_msglen:\n",
    "        return None\n",
    "    msglen = struct.unpack('>I', raw_msglen)[0]\n",
    "    # read the message data\n",
    "    return recvall(sock, msglen)\n",
    "\n",
    "def recvall(sock, n):\n",
    "    # helper function to receive n bytes or return None if EOF is hit\n",
    "    data = b''\n",
    "    while len(data) < n:\n",
    "        packet = sock.recv(n - len(data))\n",
    "        if not packet:\n",
    "            return None\n",
    "        data += packet\n",
    "    return data"
   ]
  },
  {
   "cell_type": "markdown",
   "metadata": {},
   "source": [
    "### Set host address and port number"
   ]
  },
  {
   "cell_type": "code",
   "execution_count": 24,
   "metadata": {},
   "outputs": [],
   "source": [
    "host = 'localhost'\n",
    "port = 9000\n",
    "max_recv = 4096"
   ]
  },
  {
   "cell_type": "markdown",
   "metadata": {},
   "source": [
    "### Open the client socket"
   ]
  },
  {
   "cell_type": "code",
   "execution_count": 25,
   "metadata": {},
   "outputs": [],
   "source": [
    "s = socket.socket()\n",
    "s.connect((host, port))"
   ]
  },
  {
   "cell_type": "markdown",
   "metadata": {},
   "source": [
    "## Real training process"
   ]
  },
  {
   "cell_type": "code",
   "execution_count": 26,
   "metadata": {},
   "outputs": [
    {
     "name": "stdout",
     "output_type": "stream",
     "text": [
      "Epoch 1 - loss: 1.3045, acc: 60.93% / test_loss: 1.1231, test_acc: 78.94%\n",
      "Epoch 2 - loss: 1.0827, acc: 82.80% / test_loss: 1.0436, test_acc: 86.43%\n",
      "Epoch 3 - loss: 1.0493, acc: 85.72% / test_loss: 1.0279, test_acc: 87.74%\n",
      "Epoch 4 - loss: 1.0423, acc: 86.31% / test_loss: 1.0313, test_acc: 87.40%\n",
      "Epoch 5 - loss: 1.0383, acc: 86.70% / test_loss: 1.0206, test_acc: 88.36%\n",
      "Epoch 6 - loss: 1.0334, acc: 87.15% / test_loss: 1.0238, test_acc: 88.07%\n",
      "Epoch 7 - loss: 1.0318, acc: 87.30% / test_loss: 1.0347, test_acc: 86.88%\n",
      "Epoch 8 - loss: 1.0276, acc: 87.66% / test_loss: 1.0184, test_acc: 88.57%\n",
      "Epoch 9 - loss: 1.0273, acc: 87.78% / test_loss: 1.0297, test_acc: 87.58%\n",
      "Epoch 10 - loss: 1.0308, acc: 87.34% / test_loss: 1.0223, test_acc: 88.22%\n",
      "Epoch 11 - loss: 1.0259, acc: 87.84% / test_loss: 1.0386, test_acc: 86.59%\n",
      "Epoch 12 - loss: 1.0241, acc: 88.01% / test_loss: 1.0182, test_acc: 88.60%\n",
      "Epoch 13 - loss: 1.0225, acc: 88.16% / test_loss: 1.0327, test_acc: 87.23%\n",
      "Epoch 14 - loss: 1.0216, acc: 88.27% / test_loss: 1.0164, test_acc: 88.81%\n",
      "Epoch 15 - loss: 1.0238, acc: 88.06% / test_loss: 1.0204, test_acc: 88.36%\n",
      "Epoch 16 - loss: 1.0277, acc: 87.65% / test_loss: 1.0152, test_acc: 88.97%\n",
      "Epoch 17 - loss: 1.0199, acc: 88.44% / test_loss: 1.0117, test_acc: 89.27%\n",
      "Epoch 18 - loss: 1.0196, acc: 88.46% / test_loss: 1.0119, test_acc: 89.31%\n",
      "Epoch 19 - loss: 1.0194, acc: 88.51% / test_loss: 1.0134, test_acc: 89.08%\n",
      "Epoch 20 - loss: 1.0258, acc: 87.84% / test_loss: 1.0125, test_acc: 89.20%\n",
      "Epoch 21 - loss: 1.0208, acc: 88.39% / test_loss: 1.0153, test_acc: 88.86%\n",
      "Epoch 22 - loss: 1.0205, acc: 88.40% / test_loss: 1.0118, test_acc: 89.27%\n",
      "Epoch 23 - loss: 1.0171, acc: 88.69% / test_loss: 1.0121, test_acc: 89.28%\n",
      "Epoch 24 - loss: 1.0158, acc: 88.80% / test_loss: 1.0093, test_acc: 89.54%\n",
      "Epoch 25 - loss: 1.0144, acc: 88.96% / test_loss: 1.0137, test_acc: 89.03%\n",
      "Epoch 26 - loss: 1.0163, acc: 88.78% / test_loss: 1.0092, test_acc: 89.55%\n",
      "Epoch 27 - loss: 1.0146, acc: 88.92% / test_loss: 1.0086, test_acc: 89.52%\n",
      "Epoch 28 - loss: 1.0121, acc: 89.18% / test_loss: 1.0069, test_acc: 89.75%\n",
      "Epoch 29 - loss: 1.0111, acc: 89.27% / test_loss: 1.0070, test_acc: 89.69%\n",
      "Epoch 30 - loss: 1.0130, acc: 89.08% / test_loss: 1.0088, test_acc: 89.49%\n",
      "Epoch 31 - loss: 1.0123, acc: 89.14% / test_loss: 1.0067, test_acc: 89.69%\n",
      "Epoch 32 - loss: 1.0129, acc: 89.07% / test_loss: 1.0067, test_acc: 89.69%\n",
      "Epoch 33 - loss: 1.0087, acc: 89.51% / test_loss: 1.0080, test_acc: 89.61%\n",
      "Epoch 34 - loss: 1.0117, acc: 89.22% / test_loss: 1.0066, test_acc: 89.67%\n",
      "Epoch 35 - loss: 1.0080, acc: 89.55% / test_loss: 1.0031, test_acc: 90.02%\n",
      "Epoch 36 - loss: 1.0106, acc: 89.29% / test_loss: 1.0119, test_acc: 89.10%\n",
      "Epoch 37 - loss: 1.0114, acc: 89.18% / test_loss: 1.0056, test_acc: 89.85%\n",
      "Epoch 38 - loss: 1.0073, acc: 89.59% / test_loss: 1.0022, test_acc: 90.10%\n",
      "Epoch 39 - loss: 1.0059, acc: 89.72% / test_loss: 1.0033, test_acc: 90.01%\n",
      "Epoch 40 - loss: 1.0075, acc: 89.57% / test_loss: 1.0008, test_acc: 90.15%\n",
      "Epoch 41 - loss: 1.0062, acc: 89.67% / test_loss: 1.0034, test_acc: 89.97%\n",
      "Epoch 42 - loss: 1.0062, acc: 89.66% / test_loss: 1.0022, test_acc: 90.06%\n",
      "Epoch 43 - loss: 1.0092, acc: 89.38% / test_loss: 1.0035, test_acc: 89.97%\n",
      "Epoch 44 - loss: 1.0045, acc: 89.83% / test_loss: 1.0019, test_acc: 90.17%\n",
      "Epoch 45 - loss: 1.0052, acc: 89.78% / test_loss: 0.9995, test_acc: 90.22%\n",
      "Epoch 46 - loss: 1.0038, acc: 89.90% / test_loss: 0.9991, test_acc: 90.36%\n",
      "Epoch 47 - loss: 1.0023, acc: 90.04% / test_loss: 0.9995, test_acc: 90.33%\n",
      "Epoch 48 - loss: 1.0042, acc: 89.88% / test_loss: 0.9987, test_acc: 90.34%\n",
      "Epoch 49 - loss: 1.0048, acc: 89.76% / test_loss: 0.9998, test_acc: 90.22%\n",
      "Epoch 50 - loss: 1.0021, acc: 90.02% / test_loss: 1.0018, test_acc: 90.08%\n",
      "Epoch 51 - loss: 1.0053, acc: 89.72% / test_loss: 1.0027, test_acc: 90.03%\n",
      "Epoch 52 - loss: 1.0053, acc: 89.69% / test_loss: 0.9995, test_acc: 90.28%\n",
      "Epoch 53 - loss: 1.0017, acc: 90.07% / test_loss: 0.9982, test_acc: 90.41%\n",
      "Epoch 54 - loss: 1.0040, acc: 89.87% / test_loss: 1.0026, test_acc: 89.97%\n",
      "Epoch 55 - loss: 1.0018, acc: 90.07% / test_loss: 0.9987, test_acc: 90.36%\n",
      "Epoch 56 - loss: 1.0022, acc: 90.03% / test_loss: 0.9992, test_acc: 90.39%\n",
      "Epoch 57 - loss: 1.0005, acc: 90.16% / test_loss: 1.0061, test_acc: 89.60%\n",
      "Epoch 58 - loss: 1.0028, acc: 89.96% / test_loss: 0.9981, test_acc: 90.40%\n",
      "Epoch 59 - loss: 1.0021, acc: 90.01% / test_loss: 0.9990, test_acc: 90.28%\n",
      "Epoch 60 - loss: 1.0013, acc: 90.10% / test_loss: 1.0002, test_acc: 90.25%\n",
      "Epoch 61 - loss: 1.0009, acc: 90.14% / test_loss: 0.9983, test_acc: 90.37%\n",
      "Epoch 62 - loss: 1.0006, acc: 90.14% / test_loss: 1.0023, test_acc: 90.00%\n",
      "Epoch 63 - loss: 1.0034, acc: 89.89% / test_loss: 0.9976, test_acc: 90.43%\n",
      "Epoch 64 - loss: 1.0005, acc: 90.15% / test_loss: 0.9998, test_acc: 90.16%\n",
      "Epoch 65 - loss: 1.0007, acc: 90.16% / test_loss: 0.9971, test_acc: 90.46%\n",
      "Epoch 66 - loss: 0.9997, acc: 90.24% / test_loss: 0.9977, test_acc: 90.43%\n",
      "Epoch 67 - loss: 0.9994, acc: 90.26% / test_loss: 0.9957, test_acc: 90.67%\n",
      "Epoch 68 - loss: 0.9998, acc: 90.22% / test_loss: 1.0022, test_acc: 89.99%\n",
      "Epoch 69 - loss: 1.0045, acc: 89.79% / test_loss: 1.0009, test_acc: 90.12%\n",
      "Epoch 70 - loss: 1.0005, acc: 90.18% / test_loss: 0.9962, test_acc: 90.55%\n",
      "Epoch 71 - loss: 1.0007, acc: 90.14% / test_loss: 0.9962, test_acc: 90.57%\n",
      "Epoch 72 - loss: 0.9992, acc: 90.25% / test_loss: 0.9959, test_acc: 90.59%\n",
      "Epoch 73 - loss: 0.9984, acc: 90.33% / test_loss: 0.9969, test_acc: 90.48%\n",
      "Epoch 74 - loss: 0.9991, acc: 90.30% / test_loss: 1.0045, test_acc: 89.83%\n",
      "Epoch 75 - loss: 0.9987, acc: 90.34% / test_loss: 0.9950, test_acc: 90.66%\n",
      "Epoch 76 - loss: 0.9994, acc: 90.27% / test_loss: 0.9961, test_acc: 90.56%\n",
      "Epoch 77 - loss: 1.0009, acc: 90.08% / test_loss: 0.9953, test_acc: 90.66%\n",
      "Epoch 78 - loss: 0.9983, acc: 90.34% / test_loss: 0.9969, test_acc: 90.56%\n",
      "Epoch 79 - loss: 0.9986, acc: 90.33% / test_loss: 1.0016, test_acc: 90.03%\n",
      "Epoch 80 - loss: 0.9996, acc: 90.23% / test_loss: 0.9962, test_acc: 90.54%\n",
      "Epoch 81 - loss: 0.9997, acc: 90.21% / test_loss: 0.9953, test_acc: 90.64%\n",
      "Epoch 82 - loss: 0.9981, acc: 90.35% / test_loss: 0.9981, test_acc: 90.44%\n",
      "Epoch 83 - loss: 0.9971, acc: 90.46% / test_loss: 0.9954, test_acc: 90.62%\n",
      "Epoch 84 - loss: 0.9981, acc: 90.35% / test_loss: 0.9961, test_acc: 90.57%\n",
      "Epoch 85 - loss: 0.9994, acc: 90.26% / test_loss: 0.9951, test_acc: 90.66%\n",
      "Epoch 86 - loss: 0.9981, acc: 90.37% / test_loss: 0.9963, test_acc: 90.49%\n",
      "Epoch 87 - loss: 0.9978, acc: 90.39% / test_loss: 0.9968, test_acc: 90.49%\n",
      "Epoch 88 - loss: 0.9979, acc: 90.39% / test_loss: 0.9958, test_acc: 90.58%\n",
      "Epoch 89 - loss: 0.9992, acc: 90.25% / test_loss: 0.9956, test_acc: 90.62%\n",
      "Epoch 90 - loss: 0.9979, acc: 90.37% / test_loss: 0.9968, test_acc: 90.45%\n",
      "Epoch 91 - loss: 0.9970, acc: 90.45% / test_loss: 0.9963, test_acc: 90.54%\n",
      "Epoch 92 - loss: 1.0000, acc: 90.15% / test_loss: 0.9967, test_acc: 90.55%\n",
      "Epoch 93 - loss: 0.9986, acc: 90.31% / test_loss: 0.9948, test_acc: 90.66%\n",
      "Epoch 94 - loss: 0.9982, acc: 90.36% / test_loss: 0.9949, test_acc: 90.68%\n",
      "Epoch 95 - loss: 0.9980, acc: 90.34% / test_loss: 0.9962, test_acc: 90.52%\n",
      "Epoch 96 - loss: 0.9977, acc: 90.37% / test_loss: 0.9950, test_acc: 90.64%\n",
      "Epoch 97 - loss: 0.9985, acc: 90.29% / test_loss: 0.9999, test_acc: 90.22%\n",
      "Epoch 98 - loss: 1.0001, acc: 90.15% / test_loss: 0.9962, test_acc: 90.54%\n",
      "Epoch 99 - loss: 0.9967, acc: 90.46% / test_loss: 0.9987, test_acc: 90.31%\n",
      "Epoch 100 - loss: 0.9974, acc: 90.40% / test_loss: 0.9968, test_acc: 90.51%\n",
      "Epoch 101 - loss: 0.9981, acc: 90.34% / test_loss: 0.9952, test_acc: 90.63%\n",
      "Epoch 102 - loss: 0.9959, acc: 90.55% / test_loss: 0.9951, test_acc: 90.61%\n",
      "Epoch 103 - loss: 0.9983, acc: 90.31% / test_loss: 0.9963, test_acc: 90.52%\n",
      "Epoch 104 - loss: 0.9969, acc: 90.44% / test_loss: 0.9990, test_acc: 90.29%\n",
      "Epoch 105 - loss: 0.9977, acc: 90.39% / test_loss: 0.9953, test_acc: 90.56%\n",
      "Epoch 106 - loss: 0.9974, acc: 90.42% / test_loss: 0.9954, test_acc: 90.62%\n",
      "Epoch 107 - loss: 0.9988, acc: 90.28% / test_loss: 1.0004, test_acc: 90.13%\n",
      "Epoch 108 - loss: 0.9980, acc: 90.34% / test_loss: 0.9963, test_acc: 90.50%\n",
      "Epoch 109 - loss: 0.9971, acc: 90.43% / test_loss: 0.9945, test_acc: 90.71%\n",
      "Epoch 110 - loss: 0.9969, acc: 90.43% / test_loss: 0.9958, test_acc: 90.56%\n"
     ]
    },
    {
     "name": "stdout",
     "output_type": "stream",
     "text": [
      "Epoch 111 - loss: 0.9986, acc: 90.28% / test_loss: 0.9988, test_acc: 90.31%\n",
      "Epoch 112 - loss: 0.9969, acc: 90.43% / test_loss: 1.0094, test_acc: 89.20%\n",
      "Epoch 113 - loss: 1.0018, acc: 89.97% / test_loss: 1.0000, test_acc: 90.25%\n",
      "Epoch 114 - loss: 0.9973, acc: 90.42% / test_loss: 0.9946, test_acc: 90.69%\n",
      "Epoch 115 - loss: 0.9998, acc: 90.15% / test_loss: 0.9974, test_acc: 90.40%\n",
      "Epoch 116 - loss: 0.9980, acc: 90.33% / test_loss: 0.9950, test_acc: 90.65%\n",
      "Epoch 117 - loss: 0.9965, acc: 90.48% / test_loss: 0.9945, test_acc: 90.66%\n",
      "Epoch 118 - loss: 0.9955, acc: 90.57% / test_loss: 0.9942, test_acc: 90.70%\n",
      "Epoch 119 - loss: 0.9957, acc: 90.56% / test_loss: 0.9943, test_acc: 90.69%\n",
      "Epoch 120 - loss: 0.9966, acc: 90.46% / test_loss: 0.9943, test_acc: 90.72%\n",
      "Epoch 121 - loss: 0.9965, acc: 90.47% / test_loss: 0.9972, test_acc: 90.48%\n",
      "Epoch 122 - loss: 0.9965, acc: 90.50% / test_loss: 0.9957, test_acc: 90.62%\n",
      "Epoch 123 - loss: 0.9970, acc: 90.45% / test_loss: 0.9973, test_acc: 90.41%\n",
      "Epoch 124 - loss: 0.9978, acc: 90.35% / test_loss: 0.9944, test_acc: 90.71%\n",
      "Epoch 125 - loss: 0.9971, acc: 90.43% / test_loss: 0.9966, test_acc: 90.46%\n",
      "Epoch 126 - loss: 0.9984, acc: 90.28% / test_loss: 0.9958, test_acc: 90.56%\n",
      "Epoch 127 - loss: 0.9960, acc: 90.54% / test_loss: 0.9946, test_acc: 90.73%\n",
      "Epoch 128 - loss: 0.9945, acc: 90.67% / test_loss: 0.9934, test_acc: 90.81%\n",
      "Epoch 129 - loss: 0.9954, acc: 90.56% / test_loss: 0.9941, test_acc: 90.72%\n",
      "Epoch 130 - loss: 0.9959, acc: 90.54% / test_loss: 0.9936, test_acc: 90.78%\n",
      "Epoch 131 - loss: 0.9959, acc: 90.53% / test_loss: 0.9939, test_acc: 90.75%\n",
      "Epoch 132 - loss: 0.9952, acc: 90.60% / test_loss: 0.9925, test_acc: 90.90%\n",
      "Epoch 133 - loss: 0.9932, acc: 90.81% / test_loss: 0.9920, test_acc: 90.92%\n",
      "Epoch 134 - loss: 0.9960, acc: 90.54% / test_loss: 0.9945, test_acc: 90.66%\n",
      "Epoch 135 - loss: 0.9941, acc: 90.75% / test_loss: 0.9924, test_acc: 90.89%\n",
      "Epoch 136 - loss: 0.9935, acc: 90.77% / test_loss: 0.9918, test_acc: 90.96%\n",
      "Epoch 137 - loss: 0.9938, acc: 90.73% / test_loss: 0.9931, test_acc: 90.82%\n",
      "Epoch 138 - loss: 0.9922, acc: 90.88% / test_loss: 0.9920, test_acc: 91.01%\n",
      "Epoch 139 - loss: 0.9921, acc: 90.92% / test_loss: 0.9919, test_acc: 90.94%\n",
      "Epoch 140 - loss: 0.9918, acc: 90.94% / test_loss: 0.9905, test_acc: 91.05%\n",
      "Epoch 141 - loss: 0.9915, acc: 90.96% / test_loss: 0.9933, test_acc: 90.84%\n",
      "Epoch 142 - loss: 0.9920, acc: 90.92% / test_loss: 0.9937, test_acc: 90.76%\n",
      "Epoch 143 - loss: 0.9918, acc: 90.94% / test_loss: 0.9902, test_acc: 91.10%\n",
      "Epoch 144 - loss: 0.9921, acc: 90.89% / test_loss: 0.9900, test_acc: 91.11%\n",
      "Epoch 145 - loss: 0.9910, acc: 91.01% / test_loss: 0.9907, test_acc: 91.03%\n",
      "Epoch 146 - loss: 0.9916, acc: 90.94% / test_loss: 0.9919, test_acc: 90.94%\n",
      "Epoch 147 - loss: 0.9922, acc: 90.89% / test_loss: 0.9904, test_acc: 91.09%\n",
      "Epoch 148 - loss: 0.9920, acc: 90.91% / test_loss: 0.9922, test_acc: 90.90%\n",
      "Epoch 149 - loss: 0.9908, acc: 91.05% / test_loss: 0.9981, test_acc: 90.26%\n",
      "Epoch 150 - loss: 0.9883, acc: 91.29% / test_loss: 0.9893, test_acc: 91.19%\n",
      "Epoch 151 - loss: 0.9910, acc: 91.06% / test_loss: 0.9884, test_acc: 91.30%\n",
      "Epoch 152 - loss: 0.9863, acc: 91.48% / test_loss: 0.9819, test_acc: 91.94%\n",
      "Epoch 153 - loss: 0.9833, acc: 91.77% / test_loss: 0.9824, test_acc: 91.91%\n",
      "Epoch 154 - loss: 0.9830, acc: 91.82% / test_loss: 0.9851, test_acc: 91.60%\n",
      "Epoch 155 - loss: 0.9790, acc: 92.22% / test_loss: 0.9806, test_acc: 92.05%\n",
      "Epoch 156 - loss: 0.9774, acc: 92.37% / test_loss: 0.9823, test_acc: 91.84%\n",
      "Epoch 157 - loss: 0.9778, acc: 92.31% / test_loss: 0.9799, test_acc: 92.14%\n",
      "Epoch 158 - loss: 0.9779, acc: 92.31% / test_loss: 0.9771, test_acc: 92.42%\n",
      "Epoch 159 - loss: 0.9769, acc: 92.43% / test_loss: 0.9771, test_acc: 92.43%\n",
      "Epoch 160 - loss: 0.9761, acc: 92.46% / test_loss: 0.9768, test_acc: 92.43%\n",
      "Epoch 161 - loss: 0.9746, acc: 92.65% / test_loss: 0.9778, test_acc: 92.33%\n",
      "Epoch 162 - loss: 0.9766, acc: 92.46% / test_loss: 0.9774, test_acc: 92.36%\n",
      "Epoch 163 - loss: 0.9741, acc: 92.71% / test_loss: 0.9776, test_acc: 92.39%\n",
      "Epoch 164 - loss: 0.9736, acc: 92.76% / test_loss: 0.9783, test_acc: 92.32%\n",
      "Epoch 165 - loss: 0.9754, acc: 92.56% / test_loss: 0.9802, test_acc: 92.10%\n",
      "Epoch 166 - loss: 0.9737, acc: 92.75% / test_loss: 0.9747, test_acc: 92.65%\n",
      "Epoch 167 - loss: 0.9750, acc: 92.62% / test_loss: 0.9780, test_acc: 92.35%\n",
      "Epoch 168 - loss: 0.9755, acc: 92.60% / test_loss: 0.9758, test_acc: 92.53%\n",
      "Epoch 169 - loss: 0.9730, acc: 92.84% / test_loss: 0.9768, test_acc: 92.43%\n",
      "Epoch 170 - loss: 0.9728, acc: 92.83% / test_loss: 0.9766, test_acc: 92.47%\n",
      "Epoch 171 - loss: 0.9734, acc: 92.77% / test_loss: 0.9784, test_acc: 92.28%\n",
      "Epoch 172 - loss: 0.9731, acc: 92.81% / test_loss: 0.9751, test_acc: 92.56%\n",
      "Epoch 173 - loss: 0.9739, acc: 92.74% / test_loss: 0.9765, test_acc: 92.45%\n",
      "Epoch 174 - loss: 0.9727, acc: 92.82% / test_loss: 0.9801, test_acc: 92.11%\n",
      "Epoch 175 - loss: 0.9732, acc: 92.78% / test_loss: 0.9750, test_acc: 92.57%\n",
      "Epoch 176 - loss: 0.9729, acc: 92.80% / test_loss: 0.9777, test_acc: 92.32%\n",
      "Epoch 177 - loss: 0.9720, acc: 92.90% / test_loss: 0.9750, test_acc: 92.60%\n",
      "Epoch 178 - loss: 0.9725, acc: 92.87% / test_loss: 0.9754, test_acc: 92.55%\n",
      "Epoch 179 - loss: 0.9718, acc: 92.92% / test_loss: 0.9766, test_acc: 92.44%\n",
      "Epoch 180 - loss: 0.9716, acc: 92.95% / test_loss: 0.9747, test_acc: 92.65%\n"
     ]
    }
   ],
   "source": [
    "for e in range(epoch):\n",
    "    print(\"Epoch {} - \".format(e+1), end='')\n",
    "    \n",
    "    for _, batch in enumerate(train_loader):\n",
    "        x, label = batch\n",
    "        x, label = x.to(device), label.to(device)\n",
    "        optimizer.zero_grad()\n",
    "        output = ecg_client(x)\n",
    "        client_output = output.clone().detach().requires_grad_(True)\n",
    "        msg = {\n",
    "            'client_output': client_output,\n",
    "            'label': label\n",
    "        }\n",
    "        msg = pickle.dumps(msg)\n",
    "        send_msg(s, msg)\n",
    "        msg = recv_msg(s)\n",
    "        client_grad = pickle.loads(msg)\n",
    "        output.backward(client_grad)\n",
    "        optimizer.step()\n",
    "            \n",
    "    with torch.no_grad():  # calculate test accuracy\n",
    "        for _, batch in enumerate(test_loader):\n",
    "            x, label = batch\n",
    "            x, label = x.to(device), label.to(device)\n",
    "            client_output = ecg_client(x)\n",
    "            msg = {\n",
    "                'client_output': client_output,\n",
    "                'label': label\n",
    "            }\n",
    "            msg = pickle.dumps(msg)\n",
    "            send_msg(s, msg)\n",
    "    \n",
    "    msg = recv_msg(s)\n",
    "    train_test_status = pickle.loads(msg)\n",
    "    print(train_test_status)"
   ]
  },
  {
   "cell_type": "code",
   "execution_count": 35,
   "metadata": {},
   "outputs": [
    {
     "name": "stdout",
     "output_type": "stream",
     "text": [
      "Finished Training!\n",
      "Result is on the server side.\n"
     ]
    }
   ],
   "source": [
    "print('Finished Training!')\n",
    "print('Result is on the server side.')"
   ]
  }
 ],
 "metadata": {
  "file_extension": ".py",
  "kernelspec": {
   "display_name": "Python 3 (ipykernel)",
   "language": "python",
   "name": "python3"
  },
  "language_info": {
   "codemirror_mode": {
    "name": "ipython",
    "version": 3
   },
   "file_extension": ".py",
   "mimetype": "text/x-python",
   "name": "python",
   "nbconvert_exporter": "python",
   "pygments_lexer": "ipython3",
   "version": "3.8.9"
  },
  "mimetype": "text/x-python",
  "name": "python",
  "npconvert_exporter": "python",
  "pygments_lexer": "ipython3",
  "version": 3
 },
 "nbformat": 4,
 "nbformat_minor": 2
}
